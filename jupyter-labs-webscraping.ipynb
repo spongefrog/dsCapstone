{
 "cells": [
  {
   "cell_type": "markdown",
   "metadata": {},
   "source": [
    "<center>\n",
    "    <img src=\"https://gitlab.com/ibm/skills-network/courses/placeholder101/-/raw/master/labs/module%201/images/IDSNlogo.png\" width=\"300\" alt=\"cognitiveclass.ai logo\"  />\n",
    "</center>\n"
   ]
  },
  {
   "cell_type": "markdown",
   "metadata": {},
   "source": [
    "# **Space X  Falcon 9 First Stage Landing Prediction**\n"
   ]
  },
  {
   "cell_type": "markdown",
   "metadata": {},
   "source": [
    "## Web scraping Falcon 9 and Falcon Heavy Launches Records from Wikipedia\n"
   ]
  },
  {
   "cell_type": "markdown",
   "metadata": {},
   "source": [
    "Estimated time needed: **40** minutes\n"
   ]
  },
  {
   "cell_type": "markdown",
   "metadata": {},
   "source": [
    "In this lab, you will be performing web scraping to collect Falcon 9 historical launch records from a Wikipedia page titled `List of Falcon 9 and Falcon Heavy launches`\n",
    "\n",
    "[https://en.wikipedia.org/wiki/List_of_Falcon\\_9\\_and_Falcon_Heavy_launches](https://en.wikipedia.org/wiki/List_of_Falcon\\_9\\_and_Falcon_Heavy_launches?utm_medium=Exinfluencer&utm_source=Exinfluencer&utm_content=000026UJ&utm_term=10006555&utm_id=NA-SkillsNetwork-Channel-SkillsNetworkCoursesIBMDS0321ENSkillsNetwork26802033-2021-01-01)\n"
   ]
  },
  {
   "cell_type": "markdown",
   "metadata": {},
   "source": [
    "![](https://cf-courses-data.s3.us.cloud-object-storage.appdomain.cloud/IBM-DS0321EN-SkillsNetwork/labs/module\\_1\\_L2/images/Falcon9\\_rocket_family.svg)\n"
   ]
  },
  {
   "cell_type": "markdown",
   "metadata": {},
   "source": [
    "Falcon 9 first stage will land successfully\n"
   ]
  },
  {
   "cell_type": "markdown",
   "metadata": {},
   "source": [
    "![](https://cf-courses-data.s3.us.cloud-object-storage.appdomain.cloud/IBMDeveloperSkillsNetwork-DS0701EN-SkillsNetwork/api/Images/landing\\_1.gif)\n"
   ]
  },
  {
   "cell_type": "markdown",
   "metadata": {},
   "source": [
    "Several examples of an unsuccessful landing are shown here:\n"
   ]
  },
  {
   "cell_type": "markdown",
   "metadata": {},
   "source": [
    "![](https://cf-courses-data.s3.us.cloud-object-storage.appdomain.cloud/IBMDeveloperSkillsNetwork-DS0701EN-SkillsNetwork/api/Images/crash.gif)\n"
   ]
  },
  {
   "cell_type": "markdown",
   "metadata": {},
   "source": [
    "More specifically, the launch records are stored in a HTML table shown below:\n"
   ]
  },
  {
   "cell_type": "markdown",
   "metadata": {},
   "source": [
    "![](https://cf-courses-data.s3.us.cloud-object-storage.appdomain.cloud/IBM-DS0321EN-SkillsNetwork/labs/module\\_1\\_L2/images/falcon9-launches-wiki.png)\n"
   ]
  },
  {
   "cell_type": "markdown",
   "metadata": {},
   "source": [
    "## Objectives\n",
    "\n",
    "Web scrap Falcon 9 launch records with `BeautifulSoup`:\n",
    "\n",
    "*   Extract a Falcon 9 launch records HTML table from Wikipedia\n",
    "*   Parse the table and convert it into a Pandas data frame\n"
   ]
  },
  {
   "cell_type": "markdown",
   "metadata": {},
   "source": [
    "First let's import required packages for this lab\n"
   ]
  },
  {
   "cell_type": "code",
   "execution_count": 1,
   "metadata": {},
   "outputs": [
    {
     "name": "stdout",
     "output_type": "stream",
     "text": [
      "Collecting beautifulsoup4\n",
      "  Downloading beautifulsoup4-4.11.1-py3-none-any.whl (128 kB)\n",
      "\u001b[K     |████████████████████████████████| 128 kB 1.5 MB/s eta 0:00:01\n",
      "\u001b[?25hCollecting soupsieve>1.2\n",
      "  Downloading soupsieve-2.3.2.post1-py3-none-any.whl (37 kB)\n",
      "Installing collected packages: soupsieve, beautifulsoup4\n",
      "Successfully installed beautifulsoup4-4.11.1 soupsieve-2.3.2.post1\n",
      "\u001b[33mWARNING: You are using pip version 21.2.4; however, version 22.0.4 is available.\n",
      "You should consider upgrading via the '/Library/Frameworks/Python.framework/Versions/3.10/bin/python3.10 -m pip install --upgrade pip' command.\u001b[0m\n",
      "Collecting requests\n",
      "  Downloading requests-2.27.1-py2.py3-none-any.whl (63 kB)\n",
      "\u001b[K     |████████████████████████████████| 63 kB 943 kB/s eta 0:00:01\n",
      "\u001b[?25hCollecting idna<4,>=2.5\n",
      "  Downloading idna-3.3-py3-none-any.whl (61 kB)\n",
      "\u001b[K     |████████████████████████████████| 61 kB 1.1 MB/s eta 0:00:01\n",
      "\u001b[?25hCollecting charset-normalizer~=2.0.0\n",
      "  Downloading charset_normalizer-2.0.12-py3-none-any.whl (39 kB)\n",
      "Collecting urllib3<1.27,>=1.21.1\n",
      "  Downloading urllib3-1.26.9-py2.py3-none-any.whl (138 kB)\n",
      "\u001b[K     |████████████████████████████████| 138 kB 1.6 MB/s eta 0:00:01\n",
      "\u001b[?25hCollecting certifi>=2017.4.17\n",
      "  Downloading certifi-2021.10.8-py2.py3-none-any.whl (149 kB)\n",
      "\u001b[K     |████████████████████████████████| 149 kB 1.6 MB/s eta 0:00:01\n",
      "\u001b[?25hInstalling collected packages: urllib3, idna, charset-normalizer, certifi, requests\n",
      "Successfully installed certifi-2021.10.8 charset-normalizer-2.0.12 idna-3.3 requests-2.27.1 urllib3-1.26.9\n",
      "\u001b[33mWARNING: You are using pip version 21.2.4; however, version 22.0.4 is available.\n",
      "You should consider upgrading via the '/Library/Frameworks/Python.framework/Versions/3.10/bin/python3.10 -m pip install --upgrade pip' command.\u001b[0m\n"
     ]
    }
   ],
   "source": [
    "!pip3 install beautifulsoup4\n",
    "!pip3 install requests"
   ]
  },
  {
   "cell_type": "code",
   "execution_count": 2,
   "metadata": {},
   "outputs": [],
   "source": [
    "import sys\n",
    "\n",
    "import requests\n",
    "from bs4 import BeautifulSoup\n",
    "import re\n",
    "import unicodedata\n",
    "import pandas as pd"
   ]
  },
  {
   "cell_type": "markdown",
   "metadata": {},
   "source": [
    "and we will provide some helper functions for you to process web scraped HTML table\n"
   ]
  },
  {
   "cell_type": "code",
   "execution_count": 3,
   "metadata": {},
   "outputs": [],
   "source": [
    "def date_time(table_cells):\n",
    "    \"\"\"\n",
    "    This function returns the data and time from the HTML  table cell\n",
    "    Input: the  element of a table data cell extracts extra row\n",
    "    \"\"\"\n",
    "    return [data_time.strip() for data_time in list(table_cells.strings)][0:2]\n",
    "\n",
    "def booster_version(table_cells):\n",
    "    \"\"\"\n",
    "    This function returns the booster version from the HTML  table cell \n",
    "    Input: the  element of a table data cell extracts extra row\n",
    "    \"\"\"\n",
    "    out=''.join([booster_version for i,booster_version in enumerate( table_cells.strings) if i%2==0][0:-1])\n",
    "    return out\n",
    "\n",
    "def landing_status(table_cells):\n",
    "    \"\"\"\n",
    "    This function returns the landing status from the HTML table cell \n",
    "    Input: the  element of a table data cell extracts extra row\n",
    "    \"\"\"\n",
    "    out=[i for i in table_cells.strings][0]\n",
    "    return out\n",
    "\n",
    "\n",
    "def get_mass(table_cells):\n",
    "    mass=unicodedata.normalize(\"NFKD\", table_cells.text).strip()\n",
    "    if mass:\n",
    "        mass.find(\"kg\")\n",
    "        new_mass=mass[0:mass.find(\"kg\")+2]\n",
    "    else:\n",
    "        new_mass=0\n",
    "    return new_mass\n",
    "\n",
    "\n",
    "def extract_column_from_header(row):\n",
    "    \"\"\"\n",
    "    This function returns the landing status from the HTML table cell \n",
    "    Input: the  element of a table data cell extracts extra row\n",
    "    \"\"\"\n",
    "    if (row.br):\n",
    "        row.br.extract()\n",
    "    if row.a:\n",
    "        row.a.extract()\n",
    "    if row.sup:\n",
    "        row.sup.extract()\n",
    "        \n",
    "    colunm_name = ' '.join(row.contents)\n",
    "    \n",
    "    # Filter the digit and empty names\n",
    "    if not(colunm_name.strip().isdigit()):\n",
    "        colunm_name = colunm_name.strip()\n",
    "        return colunm_name    \n"
   ]
  },
  {
   "cell_type": "markdown",
   "metadata": {},
   "source": [
    "To keep the lab tasks consistent, you will be asked to scrape the data from a snapshot of the  `List of Falcon 9 and Falcon Heavy launches` Wikipage updated on\n",
    "`9th June 2021`\n"
   ]
  },
  {
   "cell_type": "code",
   "execution_count": 4,
   "metadata": {},
   "outputs": [],
   "source": [
    "static_url = \"https://en.wikipedia.org/w/index.php?title=List_of_Falcon_9_and_Falcon_Heavy_launches&oldid=1027686922\""
   ]
  },
  {
   "cell_type": "markdown",
   "metadata": {},
   "source": [
    "Next, request the HTML page from the above URL and get a `response` object\n"
   ]
  },
  {
   "cell_type": "markdown",
   "metadata": {},
   "source": [
    "### TASK 1: Request the Falcon9 Launch Wiki page from its URL\n"
   ]
  },
  {
   "cell_type": "markdown",
   "metadata": {},
   "source": [
    "First, let's perform an HTTP GET method to request the Falcon9 Launch HTML page, as an HTTP response.\n"
   ]
  },
  {
   "cell_type": "code",
   "execution_count": 5,
   "metadata": {},
   "outputs": [
    {
     "name": "stdout",
     "output_type": "stream",
     "text": [
      "200\n"
     ]
    }
   ],
   "source": [
    "# use requests.get() method with the provided static_url\n",
    "webdata = requests.get(static_url)\n",
    "print(webdata.status_code)\n",
    "# assign the response to a object\n",
    "#webdata.content"
   ]
  },
  {
   "cell_type": "markdown",
   "metadata": {},
   "source": [
    "Create a `BeautifulSoup` object from the HTML `response`\n"
   ]
  },
  {
   "cell_type": "code",
   "execution_count": 6,
   "metadata": {},
   "outputs": [],
   "source": [
    "# Use BeautifulSoup() to create a BeautifulSoup object from a response text content\n",
    "soup = BeautifulSoup(webdata.content, 'html.parser')"
   ]
  },
  {
   "cell_type": "markdown",
   "metadata": {},
   "source": [
    "Print the page title to verify if the `BeautifulSoup` object was created properly\n"
   ]
  },
  {
   "cell_type": "code",
   "execution_count": 7,
   "metadata": {},
   "outputs": [
    {
     "data": {
      "text/plain": [
       "'List of Falcon 9 and Falcon Heavy launches - Wikipedia'"
      ]
     },
     "execution_count": 7,
     "metadata": {},
     "output_type": "execute_result"
    }
   ],
   "source": [
    "# Use soup.title attribute\n",
    "soup.title.string"
   ]
  },
  {
   "cell_type": "markdown",
   "metadata": {},
   "source": [
    "### TASK 2: Extract all column/variable names from the HTML table header\n"
   ]
  },
  {
   "cell_type": "markdown",
   "metadata": {},
   "source": [
    "Next, we want to collect all relevant column names from the HTML table header\n"
   ]
  },
  {
   "cell_type": "markdown",
   "metadata": {},
   "source": [
    "Let's try to find all tables on the wiki page first. If you need to refresh your memory about `BeautifulSoup`, please check the external reference link towards the end of this lab\n"
   ]
  },
  {
   "cell_type": "code",
   "execution_count": 8,
   "metadata": {},
   "outputs": [],
   "source": [
    "# Use the find_all function in the BeautifulSoup object, with element type `table`\n",
    "# Assign the result to a list called `html_tables`\n",
    "html_tables = soup.find_all('table')"
   ]
  },
  {
   "cell_type": "markdown",
   "metadata": {},
   "source": [
    "Starting from the third table is our target table contains the actual launch records.\n"
   ]
  },
  {
   "cell_type": "code",
   "execution_count": 12,
   "metadata": {},
   "outputs": [],
   "source": [
    "# Let's print the third table and check its content\n",
    "first_launch_table = html_tables[2]\n",
    "#print(first_launch_table)"
   ]
  },
  {
   "cell_type": "markdown",
   "metadata": {},
   "source": [
    "You should able to see the columns names embedded in the table header elements `<th>` as follows:\n"
   ]
  },
  {
   "cell_type": "markdown",
   "metadata": {},
   "source": [
    "```\n",
    "<tr>\n",
    "<th scope=\"col\">Flight No.\n",
    "</th>\n",
    "<th scope=\"col\">Date and<br/>time (<a href=\"/wiki/Coordinated_Universal_Time\" title=\"Coordinated Universal Time\">UTC</a>)\n",
    "</th>\n",
    "<th scope=\"col\"><a href=\"/wiki/List_of_Falcon_9_first-stage_boosters\" title=\"List of Falcon 9 first-stage boosters\">Version,<br/>Booster</a> <sup class=\"reference\" id=\"cite_ref-booster_11-0\"><a href=\"#cite_note-booster-11\">[b]</a></sup>\n",
    "</th>\n",
    "<th scope=\"col\">Launch site\n",
    "</th>\n",
    "<th scope=\"col\">Payload<sup class=\"reference\" id=\"cite_ref-Dragon_12-0\"><a href=\"#cite_note-Dragon-12\">[c]</a></sup>\n",
    "</th>\n",
    "<th scope=\"col\">Payload mass\n",
    "</th>\n",
    "<th scope=\"col\">Orbit\n",
    "</th>\n",
    "<th scope=\"col\">Customer\n",
    "</th>\n",
    "<th scope=\"col\">Launch<br/>outcome\n",
    "</th>\n",
    "<th scope=\"col\"><a href=\"/wiki/Falcon_9_first-stage_landing_tests\" title=\"Falcon 9 first-stage landing tests\">Booster<br/>landing</a>\n",
    "</th></tr>\n",
    "```\n"
   ]
  },
  {
   "cell_type": "markdown",
   "metadata": {},
   "source": [
    "Next, we just need to iterate through the `<th>` elements and apply the provided `extract_column_from_header()` to extract column name one by one\n"
   ]
  },
  {
   "cell_type": "code",
   "execution_count": 13,
   "metadata": {},
   "outputs": [
    {
     "name": "stdout",
     "output_type": "stream",
     "text": [
      "Flight No.\n",
      "Date and time ( )\n",
      "Launch site\n",
      "Payload\n",
      "Payload mass\n",
      "Orbit\n",
      "Customer\n",
      "Launch outcome\n"
     ]
    }
   ],
   "source": [
    "column_names = []\n",
    "\n",
    "# Apply find_all() function with `th` element on first_launch_table\n",
    "# Iterate each th element and apply the provided extract_column_from_header() to get a column name\n",
    "# Append the Non-empty column name (`if name is not None and len(name) > 0`) into a list called column_names\n",
    "for col in first_launch_table.find_all('th'):\n",
    "    colname = extract_column_from_header(col)\n",
    "    if colname != None:\n",
    "        if len(colname) > 0:\n",
    "            print(colname)\n",
    "            column_names.append(colname)\n",
    "    "
   ]
  },
  {
   "cell_type": "markdown",
   "metadata": {},
   "source": [
    "Check the extracted column names\n"
   ]
  },
  {
   "cell_type": "code",
   "execution_count": 14,
   "metadata": {},
   "outputs": [
    {
     "name": "stdout",
     "output_type": "stream",
     "text": [
      "['Flight No.', 'Date and time ( )', 'Launch site', 'Payload', 'Payload mass', 'Orbit', 'Customer', 'Launch outcome']\n"
     ]
    }
   ],
   "source": [
    "print(column_names)"
   ]
  },
  {
   "cell_type": "markdown",
   "metadata": {},
   "source": [
    "## TASK 3: Create a data frame by parsing the launch HTML tables\n"
   ]
  },
  {
   "cell_type": "markdown",
   "metadata": {},
   "source": [
    "We will create an empty dictionary with keys from the extracted column names in the previous task. Later, this dictionary will be converted into a Pandas dataframe\n"
   ]
  },
  {
   "cell_type": "code",
   "execution_count": 15,
   "metadata": {},
   "outputs": [],
   "source": [
    "launch_dict= dict.fromkeys(column_names)\n",
    "\n",
    "# Remove an irrelvant column\n",
    "del launch_dict['Date and time ( )']\n",
    "\n",
    "# Let's initial the launch_dict with each value to be an empty list\n",
    "launch_dict['Flight No.'] = []\n",
    "launch_dict['Launch site'] = []\n",
    "launch_dict['Payload'] = []\n",
    "launch_dict['Payload mass'] = []\n",
    "launch_dict['Orbit'] = []\n",
    "launch_dict['Customer'] = []\n",
    "launch_dict['Launch outcome'] = []\n",
    "# Added some new columns\n",
    "launch_dict['Version Booster']=[]\n",
    "launch_dict['Booster landing']=[]\n",
    "launch_dict['Date']=[]\n",
    "launch_dict['Time']=[]"
   ]
  },
  {
   "cell_type": "code",
   "execution_count": 16,
   "metadata": {},
   "outputs": [
    {
     "name": "stdout",
     "output_type": "stream",
     "text": [
      "Flight No. :  0\n",
      "Launch site :  0\n",
      "Payload :  0\n",
      "Payload mass :  0\n",
      "Orbit :  0\n",
      "Customer :  0\n",
      "Launch outcome :  0\n",
      "Version Booster :  0\n",
      "Booster landing :  0\n",
      "Date :  0\n",
      "Time :  0\n"
     ]
    }
   ],
   "source": [
    "for k in launch_dict.keys():\n",
    "    print(k,': ',len(launch_dict.get(k)))"
   ]
  },
  {
   "cell_type": "markdown",
   "metadata": {},
   "source": [
    "Next, we just need to fill up the `launch_dict` with launch records extracted from table rows.\n"
   ]
  },
  {
   "cell_type": "markdown",
   "metadata": {},
   "source": [
    "Usually, HTML tables in Wiki pages are likely to contain unexpected annotations and other types of noises, such as reference links `B0004.1[8]`, missing values `N/A [e]`, inconsistent formatting, etc.\n"
   ]
  },
  {
   "cell_type": "markdown",
   "metadata": {},
   "source": [
    "To simplify the parsing process, we have provided an incomplete code snippet below to help you to fill up the `launch_dict`. Please complete the following code snippet with TODOs or you can choose to write your own logic to parse all launch tables:\n"
   ]
  },
  {
   "cell_type": "code",
   "execution_count": 17,
   "metadata": {},
   "outputs": [
    {
     "name": "stdout",
     "output_type": "stream",
     "text": [
      "1 1 4 June 2010 18:45 F9 v1.0B0003.1 CCAFS Dragon Spacecraft Qualification Unit 0 LEO SpaceX Success\n",
      " Failure\n",
      "2 2 8 December 2010 15:43 F9 v1.0B0004.1 CCAFS Dragon 0 LEO NASA Success Failure\n",
      "3 3 22 May 2012 07:44 F9 v1.0B0005.1 CCAFS Dragon 525 kg LEO NASA Success No attempt\n",
      "\n",
      "4 4 8 October 2012 00:35 F9 v1.0B0006.1 CCAFS SpaceX CRS-1 4,700 kg LEO NASA Success\n",
      " No attempt\n",
      "5 5 1 March 2013 15:10 F9 v1.0B0007.1 CCAFS SpaceX CRS-2 4,877 kg LEO NASA Success\n",
      " No attempt\n",
      "\n",
      "6 6 29 September 2013 16:00 F9 v1.1B1003 VAFB CASSIOPE 500 kg Polar orbit MDA Success Uncontrolled\n",
      "7 7 3 December 2013 22:41 F9 v1.1 CCAFS SES-8 3,170 kg GTO SES Success No attempt\n",
      "8 8 6 January 2014 22:06 F9 v1.1 CCAFS Thaicom 6 3,325 kg GTO Thaicom Success No attempt\n",
      "9 9 18 April 2014 19:25 F9 v1.1 Cape Canaveral SpaceX CRS-3 2,296 kg LEO NASA Success\n",
      " Controlled\n",
      "10 10 14 July 2014 15:15 F9 v1.1 Cape Canaveral Orbcomm-OG2 1,316 kg LEO Orbcomm Success Controlled\n",
      "11 11 5 August 2014 08:00 F9 v1.1 Cape Canaveral AsiaSat 8 4,535 kg GTO AsiaSat Success No attempt\n",
      "12 12 7 September 2014 05:00 F9 v1.1 Cape Canaveral AsiaSat 6 4,428 kg GTO AsiaSat Success No attempt\n",
      "\n",
      "13 13 21 September 2014 05:52 F9 v1.1 Cape Canaveral SpaceX CRS-4 2,216 kg LEO NASA Success Uncontrolled\n",
      "14 14 10 January 2015 09:47 F9 v1.1 Cape Canaveral SpaceX CRS-5 2,395 kg LEO NASA Success Failure \n",
      "15 15 11 February 2015 23:03 F9 v1.1 Cape Canaveral DSCOVR 570 kg HEO USAF Success\n",
      " Controlled\n",
      "16 16 2 March 2015 03:50 F9 v1.1 Cape Canaveral ABS-3A 4,159 kg GTO ABS Success\n",
      " No attempt\n",
      "17 17 14 April 2015 20:10 F9 v1.1 Cape Canaveral SpaceX CRS-6 1,898 kg LEO NASA Success\n",
      " Failure\n",
      "18 18 27 April 2015 23:03 F9 v1.1 Cape Canaveral TürkmenÄlem 52°E / MonacoSAT 4,707 kg GTO None Success\n",
      " No attempt\n",
      "19 19 28 June 2015 14:21 F9 v1.1 Cape Canaveral SpaceX CRS-7 1,952 kg LEO NASA Failure Precluded\n",
      "20 20 22 December 2015 01:29 F9 FT Cape Canaveral Orbcomm-OG2 2,034 kg LEO Orbcomm Success\n",
      " Success\n",
      "21 21 17 January 2016 18:42 F9 v1.1 VAFB Jason-3 553 kg LEO NASA Success\n",
      " Failure\n",
      "22 22 4 March 2016 23:35 F9 FT Cape Canaveral SES-9 5,271 kg GTO SES Success\n",
      " Failure\n",
      "23 23 8 April 2016 20:43 F9 FT Cape Canaveral SpaceX CRS-8 3,136 kg LEO NASA Success Success\n",
      "24 24 6 May 2016 05:21 F9 FT Cape Canaveral JCSAT-14 4,696 kg GTO SKY Perfect JSAT Group Success\n",
      " Success\n",
      "25 25 27 May 2016 21:39 F9 FT Cape Canaveral Thaicom 8 3,100 kg GTO Thaicom Success\n",
      " Success\n",
      "26 26 15 June 2016 14:29 F9 FT Cape Canaveral ABS-2A 3,600 kg GTO ABS Success\n",
      " Failure\n",
      "27 27 18 July 2016 04:45 F9 FT Cape Canaveral SpaceX CRS-9 2,257 kg LEO NASA Success\n",
      " Success\n",
      "28 28 14 August 2016 05:26 F9 FT Cape Canaveral JCSAT-16 4,600 kg GTO SKY Perfect JSAT Group Success\n",
      " Success\n",
      "29 29 14 January 2017 17:54 F9 FT VAFB Iridium NEXT 9,600 kg Polar Iridium Communications Success\n",
      " Success\n",
      "30 30 19 February 2017 14:39 F9 FT KSC SpaceX CRS-10 2,490 kg LEO NASA Success\n",
      " Success\n",
      "31 31 16 March 2017 06:00 F9 FT KSC EchoStar 23 5,600 kg GTO EchoStar Success\n",
      " No attempt\n",
      "32 32 30 March 2017 22:27 F9 FT♺ KSC SES-10 5,300 kg GTO SES Success Success\n",
      "33 33 1 May 2017 11:15 F9 FT KSC NROL-76 C LEO NRO Success\n",
      " Success\n",
      "34 34 15 May 2017 23:21 F9 FT KSC Inmarsat-5 F4 6,070 kg GTO Inmarsat Success\n",
      " No attempt\n",
      "35 35 3 June 2017 21:07 F9 FT KSC SpaceX CRS-11 2,708 kg LEO NASA Success\n",
      " Success\n",
      "36 36 23 June 2017 19:10 F9 FTB1029.2 KSC BulgariaSat-1 3,669 kg GTO Bulsatcom Success\n",
      " Success\n",
      "37 37 25 June 2017 20:25 F9 FT VAFB Iridium NEXT 9,600 kg LEO Iridium Communications Success\n",
      " Success\n",
      "38 38 5 July 2017 23:38 F9 FT KSC Intelsat 35e 6,761 kg GTO Intelsat Success\n",
      " No attempt\n",
      "39 39 14 August 2017 16:31 F9 B4 KSC SpaceX CRS-12 3,310 kg LEO NASA Success\n",
      " Success\n",
      "40 40 24 August 2017 18:51 F9 FT VAFB Formosat-5 475 kg SSO NSPO Success\n",
      " Success\n",
      "41 41 7 September 2017 14:00 F9 B4 KSC Boeing X-37B 4,990 kg LEO USAF Success\n",
      " Success\n",
      "42 42 9 October 2017 12:37 F9 B4 VAFB Iridium NEXT 9,600 kg Polar Iridium Communications Success\n",
      " Success\n",
      "43 43 11 October 2017 22:53:00 F9 FTB1031.2 KSC SES-11 5,200 kg GTO SES S.A. Success\n",
      " Success\n",
      "44 44 30 October 2017 19:34 F9 B4 KSC Koreasat 5A 3,500 kg GTO KT Corporation Success\n",
      " Success\n",
      "45 45 15 December 2017 15:36 F9 FTB1035.2 Cape Canaveral SpaceX CRS-13 2,205 kg LEO NASA Success\n",
      " Success\n",
      "46 46 23 December 2017 01:27 F9 FTB1036.2 VAFB Iridium NEXT 9,600 kg Polar Iridium Communications Success Controlled\n",
      "47 47 8 January 2018 01:00 F9 B4 CCAFS Zuma C LEO Northrop Grumman Success Success\n",
      "48 48 31 January 2018 21:25 F9 FTB1032.2 CCAFS GovSat-1 4,230 kg GTO SES Success Controlled\n",
      "49 49 22 February 2018 14:17 F9 FTB1038.2 VAFB Paz 2,150 kg SSO Hisdesat Success No attempt\n",
      "50 50 6 March 2018 05:33 F9 B4 CCAFS Hispasat 30W-6 6,092 kg GTO Hispasat Success No attempt\n",
      "51 51 30 March 2018 14:14 F9 B4B1041.2 VAFB Iridium NEXT 9,600 kg Polar Iridium Communications Success No attempt\n",
      "52 52 2 April 2018 20:30 F9 B4B1039.2 CCAFS SpaceX CRS-14 2,647 kg LEO NASA Success No attempt\n",
      "53 53 18 April 2018 22:51 F9 B4 CCAFS Transiting Exoplanet Survey Satellite 362 kg HEO NASA Success Success\n",
      "54 54 11 May 2018 20:14 F9 B5B1046.1 KSC Bangabandhu-1 3,600 kg GTO Thales-Alenia Success Success\n",
      "55 55 22 May 2018 19:47 F9 B4B1043.2 VAFB Iridium NEXT 6,460 kg Polar Iridium Communications Success No attempt\n",
      "56 56 4 June 2018 04:45 F9 B4B1040.2 CCAFS SES-12 5,384 kg GTO SES Success No attempt\n",
      "57 57 29 June 2018 09:42 F9 B4B1045.2 CCAFS SpaceX CRS-15 2,697 kg LEO NASA Success No attempt\n",
      "58 58 22 July 2018 05:50 F9 B5 CCAFS Telstar 19V 7,075 kg GTO Telesat Success Success\n",
      "59 59 25 July 2018 11:39 F9 B5B1048 VAFB Iridium NEXT 9,600 kg Polar Iridium Communications Success Success\n",
      "60 60 7 August 2018 05:18 F9 B5B1046.2 CCAFS Merah Putih 5,800 kg GTO Telkom Indonesia Success Success\n",
      "61 61 10 September 2018 04:45 F9 B5 CCAFS Telstar 18V 7,060 kg GTO Telesat Success Success\n",
      "62 62 8 October 2018 02:22 F9 B5B1048.2 VAFB SAOCOM 1A 3,000 kg SSO CONAE Success Success\n",
      "63 63 15 November 2018 20:46 F9 B5B1047.2 KSC Es'hail 2 5,300 kg GTO Es'hailSat Success Success\n",
      "64 64 3 December 2018 18:34:05 F9 B5B1046.3 VAFB SSO-A ~4,000 kg SSO Spaceflight Industries Success Success\n",
      "65 65 5 December 2018 18:16 F9 B5 CCAFS SpaceX CRS-16 2,500 kg LEO NASA Success\n",
      " Failure\n",
      "66 66 23 December 2018 13:51 F9 B5 CCAFS GPS III 4,400 kg MEO USAF Success No attempt\n",
      "67 67 11 January 2019 15:31 F9 B5B1049.2 VAFB Iridium NEXT 9,600 kg Polar Iridium Communications Success\n",
      " Success\n",
      "68 68 22 February 2019 01:45 F9 B5B1048.3 CCAFS Nusantara Satu 4,850 kg GTO PSN Success\n",
      " Success\n",
      "69 69 2 March 2019 07:49 F9 B5[268] KSC Crew Dragon Demo-1 12,055 kg LEO NASA Success\n",
      " Success\n",
      "70 70 4 May 2019 06:48 F9 B5 CCAFS SpaceX CRS-17 2,495 kg LEO NASA Success\n",
      " Success\n",
      "71 71 24 May 2019 02:30 F9 B5B1049.3 CCAFS Starlink 13,620 kg LEO SpaceX Success\n",
      " Success\n",
      "72 72 12 June 2019 14:17 F9 B5B1051.2 VAFB RADARSAT Constellation 4,200 kg SSO Canadian Space Agency Success\n",
      " Success\n",
      "73 73 25 July 2019 22:01 F9 B5B1056.2 CCAFS SpaceX CRS-18 2,268 kg LEO NASA Success\n",
      " Success\n",
      "74 74 6 August 2019 23:23 F9 B5B1047.3 CCAFS AMOS-17 6,500 kg GTO Spacecom Success\n",
      " No attempt\n",
      "75 75 11 November 2019 14:56 F9 B5 CCAFS Starlink 15,600 kg LEO SpaceX Success\n",
      " Success\n",
      "76 76 5 December 2019 17:29 F9 B5 CCAFS SpaceX CRS-19 2,617 kg LEO NASA Success\n",
      " Success\n",
      "77 77 17 December 2019 00:10 F9 B5B1056.3 CCAFS JCSat-18 6,956 kg GTO Sky Perfect JSAT Success\n",
      " Success\n",
      "78 78 7 January 2020 02:19:21 F9 B5 CCAFS Starlink 15,600 kg LEO SpaceX Success\n",
      " Success\n",
      "79 79 19 January 2020 15:30 F9 B5 KSC Crew Dragon in-flight abort test 12,050 kg Sub-orbital NASA Success\n",
      " No attempt\n",
      "\n",
      "80 80 29 January 2020 14:07 F9 B5 CCAFS Starlink 15,600 kg LEO SpaceX Success\n",
      " Success\n",
      "81 81 17 February 2020 15:05 F9 B5 CCAFS Starlink 15,600 kg LEO SpaceX Success\n",
      " Failure\n",
      "82 82 7 March 2020 04:50 F9 B5 CCAFS SpaceX CRS-20 1,977 kg LEO NASA Success\n",
      " Success\n",
      "83 83 18 March 2020 12:16 F9 B5 KSC Starlink 15,600 kg LEO SpaceX Success\n",
      " Failure\n",
      "84 84 22 April 2020 19:30 F9 B5 KSC Starlink 15,600 kg LEO SpaceX Success\n",
      " Success\n",
      "85 85 30 May 2020 19:22 F9 B5 KSC Crew Dragon Demo-2 12,530 kg LEO NASA Success\n",
      " Success\n",
      "86 86 4 June 2020 01:25 F9 B5 CCAFS Starlink 15,600 kg LEO SpaceX Success\n",
      " Success\n",
      "87 87 13 June 2020 09:21 F9 B5 CCAFS Starlink 15,410 kg LEO SpaceX Success\n",
      " Success\n",
      "88 88 30 June 2020 20:10:46 F9 B5 CCAFS GPS III 4,311 kg MEO U.S. Space Force Success\n",
      " Success\n",
      "89 89 20 July 2020 21:30 F9 B5B1058.2 CCAFS ANASIS-II 5,000–6,000 kg GTO Republic of Korea Army Success\n",
      " Success\n",
      "90 90 7 August 2020 05:12 F9 B5 KSC Starlink 14,932 kg LEO SpaceX Success\n",
      " Success\n",
      "91 91 18 August 2020 14:31 F9 B5B1049.6 CCAFS Starlink ~15,440 kg LEO SpaceX Success\n",
      " Success\n",
      "92 92 30 August 2020 23:18 F9 B5 CCAFS SAOCOM 1B 3,130 kg SSO CONAE Success\n",
      " Success\n",
      "93 93 3 September 2020 12:46:14 F9 B5B1060.2 KSC Starlink 15,600 kg LEO SpaceX Success\n",
      " Success\n",
      "94 94 6 October 2020 11:29:34 F9 B5B1058.3 KSC Starlink 15,600 kg LEO SpaceX Success\n",
      " Success\n",
      "95 95 18 October 2020 12:25:57 F9 B5B1051.6 KSC Starlink 15,600 kg LEO SpaceX Success\n",
      " Success\n",
      "96 96 24 October 2020 15:31:34 F9 B5 CCAFS Starlink 15,600 kg LEO SpaceX Success\n",
      " Success\n",
      "97 97 5 November 2020 23:24:23 F9 B5 CCAFS GPS III 4,311 kg MEO USSF Success\n",
      " Success\n",
      "98 98 16 November 2020 00:27 F9 B5 KSC Crew-1 ~12,500 kg LEO NASA Success\n",
      " Success\n",
      "99 99 21 November 2020 17:17:08 F9 B5 VAFB Sentinel-6 Michael Freilich (Jason-CS A) 1,192 kg LEO NASA Success\n",
      " Success\n",
      "100 100 25 November 2020 02:13 F9 B5 ♺ CCAFS Starlink 15,600 kg LEO SpaceX Success\n",
      " Success\n",
      "101 101 6 December 2020 16:17:08 F9 B5 ♺ KSC SpaceX CRS-21 2,972 kg LEO NASA Success\n",
      " Success\n",
      "102 102 13 December 2020 17:30:00 F9 B5 ♺ CCSFS SXM-7 7,000 kg GTO Sirius XM Success\n",
      " Success\n",
      "103 103 19 December 2020 14:00:00 F9 B5 ♺ KSC NROL-108 C LEO NRO Success\n",
      " Success\n",
      "104 104 8 January 2021 02:15 F9 B5 CCSFS Türksat 5A 3,500 kg GTO Türksat Success\n",
      " Success\n",
      "105 105 20 January 2021 13:02 F9 B5B1051.8 KSC Starlink 15,600 kg LEO SpaceX Success\n",
      " Success\n",
      "106 106 24 January 2021 15:00 F9 B5B1058.5 CCSFS Transporter-1 ~5,000 kg SSO Various Success\n",
      " Success\n",
      "107 107 4 February 2021 06:19 F9 B5 ♺ CCSFS Starlink 15,600 kg LEO SpaceX Success\n",
      " Success\n",
      "108 108 16 February 2021 03:59:37 F9 B5 ♺ CCSFS Starlink 15,600 kg LEO SpaceX Success\n",
      " Failure\n",
      "109 109 4 March 2021 08:24 F9 B5 ♺ KSC Starlink 15,600 kg LEO SpaceX Success\n",
      " Success\n",
      "110 110 11 March 2021 08:13:29 F9 B5 ♺ CCSFS Starlink 15,600 kg LEO SpaceX Success\n",
      " Success\n",
      "111 111 14 March 2021 10:01 F9 B5 ♺ KSC Starlink 15,600 kg LEO SpaceX Success\n",
      " Success\n",
      "112 112 24 March 2021 08:28 F9 B5B1060.6 CCSFS Starlink 15,600 kg LEO SpaceX Success\n",
      " Success\n",
      "113 113 7 April 2021 16:34 F9 B5 ♺ CCSFS Starlink 15,600 kg LEO SpaceX Success\n",
      " Success\n",
      "114 114 23 April 2021 9:49 F9 B5B1061.2 KSC Crew-2 ~13,000 kg LEO NASA Success\n",
      " Success\n",
      "115 115 29 April 2021 03:44 F9 B5B1060.7 CCSFS Starlink 15,600 kg LEO SpaceX Success\n",
      " Success\n",
      "116 116 4 May 2021 19:01 F9 B5B1049.9 KSC Starlink 15,600 kg LEO SpaceX Success\n",
      " Success\n",
      "117 117 9 May 2021 06:42 F9 B5B1051.10 CCSFS Starlink 15,600 kg LEO SpaceX Success\n",
      " Success\n",
      "118 118 15 May 2021 22:56 F9 B5B1058.8 KSC Starlink ~14,000 kg LEO SpaceX Success\n",
      " Success\n",
      "119 119 26 May 2021 18:59 F9 B5B1063.2 CCSFS Starlink 15,600 kg LEO SpaceX Success\n",
      " Success\n",
      "120 120 3 June 2021 17:29 F9 B5B1067.1 KSC SpaceX CRS-22 3,328 kg LEO NASA Success\n",
      " Success\n",
      "121 121 6 June 2021 04:26 F9 B5 CCSFS SXM-8 7,000 kg GTO Sirius XM Success\n",
      " Success\n"
     ]
    }
   ],
   "source": [
    "extracted_row = 0\n",
    "#Extract each table \n",
    "for table_number,table in enumerate(soup.find_all('table',\"wikitable plainrowheaders collapsible\")):\n",
    "   # get table row \n",
    "    for rows in table.find_all(\"tr\"):\n",
    "        #check to see if first table heading is as number corresponding to launch a number \n",
    "        if rows.th:\n",
    "            if rows.th.string:\n",
    "                flight_number=rows.th.string.strip()\n",
    "                flag=flight_number.isdigit()\n",
    "        else:\n",
    "            flag=False\n",
    "        #get table element \n",
    "        row=rows.find_all('td')\n",
    "        #if it is number save cells in a dictonary \n",
    "        if flag:\n",
    "            extracted_row += 1\n",
    "            # Flight Number value\n",
    "            # TODO: Append the flight_number into launch_dict with key `Flight No.`\n",
    "            datatimelist=date_time(row[0])\n",
    "            launch_dict['Flight No.'].append(flight_number)\n",
    "            \n",
    "            \n",
    "            # Date value\n",
    "            # TODO: Append the date into launch_dict with key `Date`\n",
    "            date = datatimelist[0].strip(',')\n",
    "            launch_dict['Date'].append(date)\n",
    "            \n",
    "            # Time value\n",
    "            # TODO: Append the time into launch_dict with key `Time`\n",
    "            time = datatimelist[1]\n",
    "            launch_dict['Time'].append(time)\n",
    "              \n",
    "            # Booster version\n",
    "            # TODO: Append the bv into launch_dict with key `Version Booster`\n",
    "            bv=booster_version(row[1])\n",
    "            if not(bv):\n",
    "                bv=row[1].a.string\n",
    "            launch_dict['Version Booster'].append(bv)\n",
    "            \n",
    "            # Launch Site\n",
    "            # TODO: Append the bv into launch_dict with key `Launch Site`\n",
    "            launch_site = row[2].a.string\n",
    "            launch_dict['Launch site'].append(launch_site)\n",
    "            \n",
    "            # Payload\n",
    "            # TODO: Append the payload into launch_dict with key `Payload`\n",
    "            payload = row[3].a.string\n",
    "            launch_dict['Payload'].append(payload)\n",
    "            \n",
    "            # Payload Mass\n",
    "            # TODO: Append the payload_mass into launch_dict with key `Payload mass`\n",
    "            payload_mass = get_mass(row[4])\n",
    "            launch_dict['Payload mass'].append(payload_mass)\n",
    "            \n",
    "            \n",
    "            # Orbit\n",
    "            # TODO: Append the orbit into launch_dict with key `Orbit`\n",
    "            orbit = row[5].a.string\n",
    "            launch_dict['Orbit'].append(orbit)\n",
    "            \n",
    "            # Customer\n",
    "            # TODO: Append the customer into launch_dict with key `Customer`\n",
    "            if row[6].a == None:\n",
    "                customer = 'Various'\n",
    "            else:\n",
    "                customer = row[6].a.string\n",
    "            launch_dict['Customer'].append(customer)\n",
    "            \n",
    "            # Launch outcome\n",
    "            # TODO: Append the launch_outcome into launch_dict with key `Launch outcome`\n",
    "            launch_outcome = list(row[7].strings)[0]\n",
    "            launch_dict['Launch outcome'].append(launch_outcome)\n",
    "            \n",
    "            # Booster landing\n",
    "            # TODO: Append the launch_outcome into launch_dict with key `Booster landing`\n",
    "            booster_landing = landing_status(row[8])\n",
    "            launch_dict['Booster landing'].append(booster_landing)\n",
    "            \n",
    "            print(extracted_row, flight_number, date, time, bv, launch_site, payload, payload_mass, orbit, customer, launch_outcome, booster_landing)\n",
    "            "
   ]
  },
  {
   "cell_type": "markdown",
   "metadata": {},
   "source": [
    "After you have fill in the parsed launch record values into `launch_dict`, you can create a dataframe from it.\n"
   ]
  },
  {
   "cell_type": "code",
   "execution_count": 18,
   "metadata": {},
   "outputs": [],
   "source": [
    "df = pd.DataFrame(launch_dict)"
   ]
  },
  {
   "cell_type": "code",
   "execution_count": 19,
   "metadata": {},
   "outputs": [
    {
     "data": {
      "text/html": [
       "<div>\n",
       "<style scoped>\n",
       "    .dataframe tbody tr th:only-of-type {\n",
       "        vertical-align: middle;\n",
       "    }\n",
       "\n",
       "    .dataframe tbody tr th {\n",
       "        vertical-align: top;\n",
       "    }\n",
       "\n",
       "    .dataframe thead th {\n",
       "        text-align: right;\n",
       "    }\n",
       "</style>\n",
       "<table border=\"1\" class=\"dataframe\">\n",
       "  <thead>\n",
       "    <tr style=\"text-align: right;\">\n",
       "      <th></th>\n",
       "      <th>Flight No.</th>\n",
       "      <th>Launch site</th>\n",
       "      <th>Payload</th>\n",
       "      <th>Payload mass</th>\n",
       "      <th>Orbit</th>\n",
       "      <th>Customer</th>\n",
       "      <th>Launch outcome</th>\n",
       "      <th>Version Booster</th>\n",
       "      <th>Booster landing</th>\n",
       "      <th>Date</th>\n",
       "      <th>Time</th>\n",
       "    </tr>\n",
       "  </thead>\n",
       "  <tbody>\n",
       "    <tr>\n",
       "      <th>116</th>\n",
       "      <td>117</td>\n",
       "      <td>CCSFS</td>\n",
       "      <td>Starlink</td>\n",
       "      <td>15,600 kg</td>\n",
       "      <td>LEO</td>\n",
       "      <td>SpaceX</td>\n",
       "      <td>Success\\n</td>\n",
       "      <td>F9 B5B1051.10</td>\n",
       "      <td>Success</td>\n",
       "      <td>9 May 2021</td>\n",
       "      <td>06:42</td>\n",
       "    </tr>\n",
       "    <tr>\n",
       "      <th>117</th>\n",
       "      <td>118</td>\n",
       "      <td>KSC</td>\n",
       "      <td>Starlink</td>\n",
       "      <td>~14,000 kg</td>\n",
       "      <td>LEO</td>\n",
       "      <td>SpaceX</td>\n",
       "      <td>Success\\n</td>\n",
       "      <td>F9 B5B1058.8</td>\n",
       "      <td>Success</td>\n",
       "      <td>15 May 2021</td>\n",
       "      <td>22:56</td>\n",
       "    </tr>\n",
       "    <tr>\n",
       "      <th>118</th>\n",
       "      <td>119</td>\n",
       "      <td>CCSFS</td>\n",
       "      <td>Starlink</td>\n",
       "      <td>15,600 kg</td>\n",
       "      <td>LEO</td>\n",
       "      <td>SpaceX</td>\n",
       "      <td>Success\\n</td>\n",
       "      <td>F9 B5B1063.2</td>\n",
       "      <td>Success</td>\n",
       "      <td>26 May 2021</td>\n",
       "      <td>18:59</td>\n",
       "    </tr>\n",
       "    <tr>\n",
       "      <th>119</th>\n",
       "      <td>120</td>\n",
       "      <td>KSC</td>\n",
       "      <td>SpaceX CRS-22</td>\n",
       "      <td>3,328 kg</td>\n",
       "      <td>LEO</td>\n",
       "      <td>NASA</td>\n",
       "      <td>Success\\n</td>\n",
       "      <td>F9 B5B1067.1</td>\n",
       "      <td>Success</td>\n",
       "      <td>3 June 2021</td>\n",
       "      <td>17:29</td>\n",
       "    </tr>\n",
       "    <tr>\n",
       "      <th>120</th>\n",
       "      <td>121</td>\n",
       "      <td>CCSFS</td>\n",
       "      <td>SXM-8</td>\n",
       "      <td>7,000 kg</td>\n",
       "      <td>GTO</td>\n",
       "      <td>Sirius XM</td>\n",
       "      <td>Success\\n</td>\n",
       "      <td>F9 B5</td>\n",
       "      <td>Success</td>\n",
       "      <td>6 June 2021</td>\n",
       "      <td>04:26</td>\n",
       "    </tr>\n",
       "  </tbody>\n",
       "</table>\n",
       "</div>"
      ],
      "text/plain": [
       "    Flight No. Launch site        Payload Payload mass Orbit   Customer  \\\n",
       "116        117       CCSFS       Starlink    15,600 kg   LEO     SpaceX   \n",
       "117        118         KSC       Starlink   ~14,000 kg   LEO     SpaceX   \n",
       "118        119       CCSFS       Starlink    15,600 kg   LEO     SpaceX   \n",
       "119        120         KSC  SpaceX CRS-22     3,328 kg   LEO       NASA   \n",
       "120        121       CCSFS          SXM-8     7,000 kg   GTO  Sirius XM   \n",
       "\n",
       "    Launch outcome Version Booster Booster landing         Date   Time  \n",
       "116      Success\\n   F9 B5B1051.10         Success   9 May 2021  06:42  \n",
       "117      Success\\n    F9 B5B1058.8         Success  15 May 2021  22:56  \n",
       "118      Success\\n    F9 B5B1063.2         Success  26 May 2021  18:59  \n",
       "119      Success\\n    F9 B5B1067.1         Success  3 June 2021  17:29  \n",
       "120      Success\\n           F9 B5         Success  6 June 2021  04:26  "
      ]
     },
     "execution_count": 19,
     "metadata": {},
     "output_type": "execute_result"
    }
   ],
   "source": [
    "df.tail()"
   ]
  },
  {
   "cell_type": "code",
   "execution_count": 20,
   "metadata": {},
   "outputs": [],
   "source": [
    "df.to_csv('spacex_web_scraped.csv', index=False)"
   ]
  },
  {
   "cell_type": "markdown",
   "metadata": {},
   "source": [
    "We can now export it to a <b>CSV</b> for the next section, but to make the answers consistent and in case you have difficulties finishing this lab.\n",
    "\n",
    "Following labs will be using a provided dataset to make each lab independent.\n"
   ]
  },
  {
   "cell_type": "markdown",
   "metadata": {},
   "source": [
    "<code>df.to_csv('spacex_web_scraped.csv', index=False)</code>\n"
   ]
  },
  {
   "cell_type": "markdown",
   "metadata": {},
   "source": [
    "## Authors\n"
   ]
  },
  {
   "cell_type": "markdown",
   "metadata": {},
   "source": [
    "<a href=\"https://www.linkedin.com/in/yan-luo-96288783/?utm_medium=Exinfluencer&utm_source=Exinfluencer&utm_content=000026UJ&utm_term=10006555&utm_id=NA-SkillsNetwork-Channel-SkillsNetworkCoursesIBMDS0321ENSkillsNetwork26802033-2021-01-01\">Yan Luo</a>\n"
   ]
  },
  {
   "cell_type": "markdown",
   "metadata": {},
   "source": [
    "<a href=\"https://www.linkedin.com/in/nayefaboutayoun/?utm_medium=Exinfluencer&utm_source=Exinfluencer&utm_content=000026UJ&utm_term=10006555&utm_id=NA-SkillsNetwork-Channel-SkillsNetworkCoursesIBMDS0321ENSkillsNetwork26802033-2021-01-01\">Nayef Abou Tayoun</a>\n"
   ]
  },
  {
   "cell_type": "markdown",
   "metadata": {},
   "source": [
    "## Change Log\n"
   ]
  },
  {
   "cell_type": "markdown",
   "metadata": {},
   "source": [
    "| Date (YYYY-MM-DD) | Version | Changed By | Change Description          |\n",
    "| ----------------- | ------- | ---------- | --------------------------- |\n",
    "| 2021-06-09        | 1.0     | Yan Luo    | Tasks updates               |\n",
    "| 2020-11-10        | 1.0     | Nayef      | Created the initial version |\n"
   ]
  },
  {
   "cell_type": "markdown",
   "metadata": {},
   "source": [
    "Copyright © 2021 IBM Corporation. All rights reserved.\n"
   ]
  }
 ],
 "metadata": {
  "kernelspec": {
   "display_name": "Python 3 (ipykernel)",
   "language": "python",
   "name": "python3"
  },
  "language_info": {
   "codemirror_mode": {
    "name": "ipython",
    "version": 3
   },
   "file_extension": ".py",
   "mimetype": "text/x-python",
   "name": "python",
   "nbconvert_exporter": "python",
   "pygments_lexer": "ipython3",
   "version": "3.8.5"
  }
 },
 "nbformat": 4,
 "nbformat_minor": 4
}
